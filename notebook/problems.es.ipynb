{
    "cells": [
        {
            "cell_type": "markdown",
            "id": "ac622319",
            "metadata": {},
            "source": [
                "# Problemas de Estadística Descriptica"
            ]
        },
        {
            "cell_type": "markdown",
            "id": "5e0ab0d5",
            "metadata": {},
            "source": [
                "### Ejercicio 1\n",
                "\n",
                "Usaremos NumPy para obtener información y describir estadísticamente.\n",
                "\n",
                "- Generar un arreglo de 100 elementos que sigan una distribución normal.\n",
                "- Generar un arreglo de 100 elementos que sigan una distribución chi-cuadrado con 3 grados de libertad.\n",
                "- Calcular las métricas principales y las medidas estadísticas que mejor describan los dos vectores."
            ]
        },
        {
            "cell_type": "code",
            "execution_count": 1,
            "id": "df526fe0",
            "metadata": {},
            "outputs": [
                {
                    "name": "stdout",
                    "output_type": "stream",
                    "text": [
                        "Normal mean: -0.10384651739409385\n",
                        "Chi mean: 2.9380795335328225\n",
                        "Normal median: -0.1269562917797126\n",
                        "Chi median: 2.4636148965577283\n",
                        "Normal mode: 0.4967141530112327\n",
                        "Chi mode: 0.4168513022813494\n",
                        "Normal range: 4.472023288598682\n",
                        "Normal chi: 12.592089274962756\n",
                        "Normal variance: 0.82476989363016 and std: 0.9081684280078007\n",
                        "Chi variance: 5.87576054587392 and std: 2.4239968122656266\n",
                        "Normal skewness: -0.17526772024433726\n",
                        "Chi skewness: 1.6683703423622345\n",
                        "Normal kurtosis: -0.1554047077420817\n",
                        "Chi kurtosis: 3.620577909892315\n"
                    ]
                }
            ],
            "source": [
                "import numpy as np \n",
                "import pandas as pd \n",
                "import statistics as stats\n",
                "\n",
                "np.random.seed(42)\n",
                "\n",
                "normal = np.random.normal(size = 100)\n",
                "chi = np.random.chisquare(3, 100)\n",
                "\n",
                "#print(f\"Normal vector: {normal}\")\n",
                "#print(f\"Chi-square vector: {chi}\")\n",
                "\n",
                "#media\n",
                "print(f\"Normal mean: {stats.mean(normal)}\")\n",
                "print(f\"Chi mean: {stats.mean(chi)}\")\n",
                "\n",
                "#mediana\n",
                "print(f\"Normal median: {stats.median(normal)}\")\n",
                "print(f\"Chi median: {stats.median(chi)}\")\n",
                "\n",
                "#moda\n",
                "print(f\"Normal mode: {stats.mode(normal)}\")\n",
                "print(f\"Chi mode: {stats.mode(chi)}\")\n",
                "\n",
                "#rango\n",
                "range_normal = max(normal) - min(normal)\n",
                "range_chi = max(chi) - min(chi)\n",
                "print(f\"Normal range: {range_normal}\")\n",
                "print(f\"Normal chi: {range_chi}\")\n",
                "\n",
                "#variacion y desv estandar\n",
                "var_normal = stats.variance(normal)\n",
                "std_normal = stats.stdev(normal)\n",
                "var_chi = stats.variance(chi)\n",
                "std_chi = stats.stdev(chi)\n",
                "\n",
                "print(f\"Normal variance: {var_normal} and std: {std_normal}\")\n",
                "print(f\"Chi variance: {var_chi} and std: {std_chi}\")\n",
                "\n",
                "#asimetria\n",
                "from scipy.stats import skew\n",
                "\n",
                "skew_normal = skew(normal)\n",
                "skew_chi = skew(chi)\n",
                "\n",
                "print(f\"Normal skewness: {skew_normal}\")\n",
                "print(f\"Chi skewness: {skew_chi}\")\n",
                "\n",
                "#curtosis\n",
                "from scipy.stats import kurtosis\n",
                "\n",
                "kurt_normal = kurtosis(normal)\n",
                "kurt_chi = kurtosis(chi)\n",
                "\n",
                "print(f\"Normal kurtosis: {kurt_normal}\")\n",
                "print(f\"Chi kurtosis: {kurt_chi}\")\n",
                "\n"
            ]
        },
        {
            "cell_type": "markdown",
            "id": "46c70c3d",
            "metadata": {},
            "source": [
                "### Ejercicio 2\n",
                "\n",
                "Escribe un programa en Python para calcular la desviación estándar de los siguientes datos:\n",
                "\n",
                "```py\n",
                "data = [4, 2, 5, 8, 6]\n",
                "```"
            ]
        },
        {
            "cell_type": "code",
            "execution_count": 3,
            "id": "d590308e",
            "metadata": {},
            "outputs": [
                {
                    "name": "stdout",
                    "output_type": "stream",
                    "text": [
                        "La desviación estándar de [4, 2, 5, 8, 6] es 2.0\n"
                    ]
                }
            ],
            "source": [
                "from math import sqrt\n",
                "\n",
                "data = [4, 2, 5, 8, 6]\n",
                "count = 0\n",
                "for i in data:\n",
                "    count += i\n",
                "df_mean = count / len(data) \n",
                "df_mean\n",
                "result = 0 \n",
                "\n",
                "for i in data: \n",
                "    result += (i - df_mean)**2  \n",
                "output = result / len(data)\n",
                "\n",
                "scuare_root = sqrt(output) \n",
                "scuare_root\n",
                "\n",
                "print(f\"\"\"La desviación estándar de {data} es {scuare_root}\"\"\")\n",
                "\n"
            ]
        }
    ],
    "metadata": {
        "kernelspec": {
            "display_name": "Python 3",
            "language": "python",
            "name": "python3"
        },
        "language_info": {
            "codemirror_mode": {
                "name": "ipython",
                "version": 3
            },
            "file_extension": ".py",
            "mimetype": "text/x-python",
            "name": "python",
            "nbconvert_exporter": "python",
            "pygments_lexer": "ipython3",
            "version": "3.11.4"
        }
    },
    "nbformat": 4,
    "nbformat_minor": 5
}
